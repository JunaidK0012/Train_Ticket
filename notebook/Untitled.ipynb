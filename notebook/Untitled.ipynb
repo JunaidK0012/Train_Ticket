{
 "cells": [
  {
   "cell_type": "code",
   "execution_count": 58,
   "id": "4d4969cf",
   "metadata": {},
   "outputs": [],
   "source": [
    "import pandas as pd\n",
    "import numpy as np \n",
    "import seaborn as sns\n",
    "import matplotlib.pyplot as plt"
   ]
  },
  {
   "cell_type": "code",
   "execution_count": 59,
   "id": "25c919ce",
   "metadata": {},
   "outputs": [],
   "source": [
    "df = pd.read_csv('price_data.csv')"
   ]
  },
  {
   "cell_type": "code",
   "execution_count": 60,
   "id": "35177e0a",
   "metadata": {},
   "outputs": [],
   "source": [
    "df.drop(['fuelAmount','totalConcession', 'tatkalFare','availability','reservationCharge','serviceTax','cateringCharge','timeStamp','dynamicFare','otherCharge','baseFare','duration'],axis='columns',inplace=True)\n",
    "#first 3 are all zero \n",
    "#availability is json\n",
    "#reservationCharge,serviceTax is based on classCode for avoiding Multicollinearity  \n",
    "#'baseFare','duration' ----------Multicollinearity\n",
    "#cateringCharge,dynamicFare,'otherCharge' 99% of values are zero\n",
    "# timeStamp not needed"
   ]
  },
  {
   "cell_type": "code",
   "execution_count": 61,
   "id": "13847bbf",
   "metadata": {},
   "outputs": [],
   "source": [
    "df.superfastCharge = df.superfastCharge.apply(lambda x:0 if x==0 else 1)"
   ]
  },
  {
   "cell_type": "code",
   "execution_count": 62,
   "id": "8af95af0",
   "metadata": {},
   "outputs": [],
   "source": [
    "df = df.rename(columns={'superfastCharge':'SuperFast'})"
   ]
  },
  {
   "cell_type": "code",
   "execution_count": 63,
   "id": "84f02a74",
   "metadata": {},
   "outputs": [],
   "source": [
    "df.drop_duplicates(subset=['SuperFast', 'trainNumber', 'fromStnCode', 'toStnCode',\n",
    "       'classCode', 'distance'],ignore_index=True,keep='last',inplace=True)"
   ]
  },
  {
   "cell_type": "code",
   "execution_count": 64,
   "id": "fcf96aab",
   "metadata": {},
   "outputs": [],
   "source": [
    "#df.trainNumber = df.trainNumber.astype(str)"
   ]
  },
  {
   "cell_type": "code",
   "execution_count": 65,
   "id": "c8bd87bb",
   "metadata": {},
   "outputs": [],
   "source": [
    "df = df[['trainNumber', 'fromStnCode', 'toStnCode',\n",
    "       'classCode', 'distance','SuperFast', 'totalFare']]"
   ]
  },
  {
   "cell_type": "code",
   "execution_count": 66,
   "id": "d7b13ffd",
   "metadata": {},
   "outputs": [],
   "source": [
    "X = df.drop(['totalFare'],axis='columns')\n",
    "y = df.totalFare"
   ]
  },
  {
   "cell_type": "code",
   "execution_count": 67,
   "id": "742e0418",
   "metadata": {},
   "outputs": [],
   "source": [
    "cat_columns = [x for x in X.columns if X[x].dtype=='O']\n",
    "num_columns = [x for x in X.columns if X[x].dtype!='O']\n"
   ]
  },
  {
   "cell_type": "code",
   "execution_count": 68,
   "id": "0ad6d226",
   "metadata": {},
   "outputs": [],
   "source": [
    "from sklearn.model_selection import train_test_split\n",
    "from sklearn.pipeline import Pipeline\n",
    "from sklearn.compose import ColumnTransformer\n",
    "from sklearn.preprocessing import OneHotEncoder,StandardScaler"
   ]
  },
  {
   "cell_type": "code",
   "execution_count": 69,
   "id": "47412cc4",
   "metadata": {},
   "outputs": [],
   "source": [
    "\n",
    "cat_pipeline = Pipeline(\n",
    "steps=[\n",
    "    ('encoder',OneHotEncoder(handle_unknown='ignore'))\n",
    "])\n",
    "\n",
    "preprocessor = ColumnTransformer(transformers=[\n",
    "    ('cat_pipeline',cat_pipeline,cat_columns)\n",
    "],remainder='passthrough')"
   ]
  },
  {
   "cell_type": "code",
   "execution_count": 79,
   "id": "2589072c",
   "metadata": {},
   "outputs": [],
   "source": [
    "X_train, X_test, y_train, y_test = train_test_split(X,y,train_size=0.7,random_state=45)"
   ]
  },
  {
   "cell_type": "code",
   "execution_count": 80,
   "id": "d371f4b0",
   "metadata": {},
   "outputs": [
    {
     "data": {
      "text/plain": [
       "((208446, 6), (208446,))"
      ]
     },
     "execution_count": 80,
     "metadata": {},
     "output_type": "execute_result"
    }
   ],
   "source": [
    "X_train.shape,y_train.shape"
   ]
  },
  {
   "cell_type": "code",
   "execution_count": 81,
   "id": "e8aabc27",
   "metadata": {},
   "outputs": [],
   "source": [
    "X_train = preprocessor.fit_transform(X_train)\n",
    "X_test = preprocessor.transform(X_test)"
   ]
  },
  {
   "cell_type": "code",
   "execution_count": 82,
   "id": "6593ed9b",
   "metadata": {},
   "outputs": [
    {
     "data": {
      "text/plain": [
       "(208446, 3058)"
      ]
     },
     "execution_count": 82,
     "metadata": {},
     "output_type": "execute_result"
    }
   ],
   "source": [
    "X_train.shape"
   ]
  },
  {
   "cell_type": "code",
   "execution_count": 83,
   "id": "106ed7fd",
   "metadata": {},
   "outputs": [],
   "source": [
    "from sklearn.linear_model import LinearRegression"
   ]
  },
  {
   "cell_type": "code",
   "execution_count": 84,
   "id": "843d76b7",
   "metadata": {},
   "outputs": [],
   "source": [
    "from sklearn.model_selection import cross_val_score\n",
    "from sklearn.linear_model import LogisticRegression,Lasso,Ridge\n",
    "from sklearn.ensemble import RandomForestRegressor\n",
    "from sklearn.tree import DecisionTreeRegressor\n",
    "from sklearn.neighbors import KNeighborsRegressor"
   ]
  },
  {
   "cell_type": "code",
   "execution_count": 85,
   "id": "13391a5d",
   "metadata": {},
   "outputs": [
    {
     "data": {
      "text/html": [
       "<style>#sk-container-id-2 {color: black;}#sk-container-id-2 pre{padding: 0;}#sk-container-id-2 div.sk-toggleable {background-color: white;}#sk-container-id-2 label.sk-toggleable__label {cursor: pointer;display: block;width: 100%;margin-bottom: 0;padding: 0.3em;box-sizing: border-box;text-align: center;}#sk-container-id-2 label.sk-toggleable__label-arrow:before {content: \"▸\";float: left;margin-right: 0.25em;color: #696969;}#sk-container-id-2 label.sk-toggleable__label-arrow:hover:before {color: black;}#sk-container-id-2 div.sk-estimator:hover label.sk-toggleable__label-arrow:before {color: black;}#sk-container-id-2 div.sk-toggleable__content {max-height: 0;max-width: 0;overflow: hidden;text-align: left;background-color: #f0f8ff;}#sk-container-id-2 div.sk-toggleable__content pre {margin: 0.2em;color: black;border-radius: 0.25em;background-color: #f0f8ff;}#sk-container-id-2 input.sk-toggleable__control:checked~div.sk-toggleable__content {max-height: 200px;max-width: 100%;overflow: auto;}#sk-container-id-2 input.sk-toggleable__control:checked~label.sk-toggleable__label-arrow:before {content: \"▾\";}#sk-container-id-2 div.sk-estimator input.sk-toggleable__control:checked~label.sk-toggleable__label {background-color: #d4ebff;}#sk-container-id-2 div.sk-label input.sk-toggleable__control:checked~label.sk-toggleable__label {background-color: #d4ebff;}#sk-container-id-2 input.sk-hidden--visually {border: 0;clip: rect(1px 1px 1px 1px);clip: rect(1px, 1px, 1px, 1px);height: 1px;margin: -1px;overflow: hidden;padding: 0;position: absolute;width: 1px;}#sk-container-id-2 div.sk-estimator {font-family: monospace;background-color: #f0f8ff;border: 1px dotted black;border-radius: 0.25em;box-sizing: border-box;margin-bottom: 0.5em;}#sk-container-id-2 div.sk-estimator:hover {background-color: #d4ebff;}#sk-container-id-2 div.sk-parallel-item::after {content: \"\";width: 100%;border-bottom: 1px solid gray;flex-grow: 1;}#sk-container-id-2 div.sk-label:hover label.sk-toggleable__label {background-color: #d4ebff;}#sk-container-id-2 div.sk-serial::before {content: \"\";position: absolute;border-left: 1px solid gray;box-sizing: border-box;top: 0;bottom: 0;left: 50%;z-index: 0;}#sk-container-id-2 div.sk-serial {display: flex;flex-direction: column;align-items: center;background-color: white;padding-right: 0.2em;padding-left: 0.2em;position: relative;}#sk-container-id-2 div.sk-item {position: relative;z-index: 1;}#sk-container-id-2 div.sk-parallel {display: flex;align-items: stretch;justify-content: center;background-color: white;position: relative;}#sk-container-id-2 div.sk-item::before, #sk-container-id-2 div.sk-parallel-item::before {content: \"\";position: absolute;border-left: 1px solid gray;box-sizing: border-box;top: 0;bottom: 0;left: 50%;z-index: -1;}#sk-container-id-2 div.sk-parallel-item {display: flex;flex-direction: column;z-index: 1;position: relative;background-color: white;}#sk-container-id-2 div.sk-parallel-item:first-child::after {align-self: flex-end;width: 50%;}#sk-container-id-2 div.sk-parallel-item:last-child::after {align-self: flex-start;width: 50%;}#sk-container-id-2 div.sk-parallel-item:only-child::after {width: 0;}#sk-container-id-2 div.sk-dashed-wrapped {border: 1px dashed gray;margin: 0 0.4em 0.5em 0.4em;box-sizing: border-box;padding-bottom: 0.4em;background-color: white;}#sk-container-id-2 div.sk-label label {font-family: monospace;font-weight: bold;display: inline-block;line-height: 1.2em;}#sk-container-id-2 div.sk-label-container {text-align: center;}#sk-container-id-2 div.sk-container {/* jupyter's `normalize.less` sets `[hidden] { display: none; }` but bootstrap.min.css set `[hidden] { display: none !important; }` so we also need the `!important` here to be able to override the default hidden behavior on the sphinx rendered scikit-learn.org. See: https://github.com/scikit-learn/scikit-learn/issues/21755 */display: inline-block !important;position: relative;}#sk-container-id-2 div.sk-text-repr-fallback {display: none;}</style><div id=\"sk-container-id-2\" class=\"sk-top-container\"><div class=\"sk-text-repr-fallback\"><pre>RandomForestRegressor()</pre><b>In a Jupyter environment, please rerun this cell to show the HTML representation or trust the notebook. <br />On GitHub, the HTML representation is unable to render, please try loading this page with nbviewer.org.</b></div><div class=\"sk-container\" hidden><div class=\"sk-item\"><div class=\"sk-estimator sk-toggleable\"><input class=\"sk-toggleable__control sk-hidden--visually\" id=\"sk-estimator-id-2\" type=\"checkbox\" checked><label for=\"sk-estimator-id-2\" class=\"sk-toggleable__label sk-toggleable__label-arrow\">RandomForestRegressor</label><div class=\"sk-toggleable__content\"><pre>RandomForestRegressor()</pre></div></div></div></div></div>"
      ],
      "text/plain": [
       "RandomForestRegressor()"
      ]
     },
     "execution_count": 85,
     "metadata": {},
     "output_type": "execute_result"
    }
   ],
   "source": [
    "model = RandomForestRegressor()\n",
    "model.fit(X_train,y_train)"
   ]
  },
  {
   "cell_type": "code",
   "execution_count": 86,
   "id": "50de4e32",
   "metadata": {},
   "outputs": [
    {
     "data": {
      "text/plain": [
       "0.9991794095952091"
      ]
     },
     "execution_count": 86,
     "metadata": {},
     "output_type": "execute_result"
    }
   ],
   "source": [
    "model.score(X_train,y_train)"
   ]
  },
  {
   "cell_type": "code",
   "execution_count": 87,
   "id": "4d47978f",
   "metadata": {},
   "outputs": [
    {
     "data": {
      "text/plain": [
       "0.9937668732785585"
      ]
     },
     "execution_count": 87,
     "metadata": {},
     "output_type": "execute_result"
    }
   ],
   "source": [
    "model.score(X_test,y_test)"
   ]
  },
  {
   "cell_type": "code",
   "execution_count": 19,
   "id": "74a31035",
   "metadata": {},
   "outputs": [],
   "source": [
    "#0.866980573558711\n",
    "#0.8633145591672289"
   ]
  },
  {
   "cell_type": "code",
   "execution_count": 88,
   "id": "9910a8a8",
   "metadata": {},
   "outputs": [],
   "source": [
    "price = pd.read_csv('price_data.csv')"
   ]
  },
  {
   "cell_type": "code",
   "execution_count": 89,
   "id": "4ad71920",
   "metadata": {},
   "outputs": [],
   "source": [
    "schedule = pd.read_csv('schedules.csv')"
   ]
  },
  {
   "cell_type": "code",
   "execution_count": 90,
   "id": "118e6106",
   "metadata": {},
   "outputs": [
    {
     "data": {
      "text/html": [
       "<div>\n",
       "<style scoped>\n",
       "    .dataframe tbody tr th:only-of-type {\n",
       "        vertical-align: middle;\n",
       "    }\n",
       "\n",
       "    .dataframe tbody tr th {\n",
       "        vertical-align: top;\n",
       "    }\n",
       "\n",
       "    .dataframe thead th {\n",
       "        text-align: right;\n",
       "    }\n",
       "</style>\n",
       "<table border=\"1\" class=\"dataframe\">\n",
       "  <thead>\n",
       "    <tr style=\"text-align: right;\">\n",
       "      <th></th>\n",
       "      <th>trainNumber</th>\n",
       "      <th>trainName</th>\n",
       "      <th>stationFrom</th>\n",
       "      <th>stationTo</th>\n",
       "      <th>trainRunsOnMon</th>\n",
       "      <th>trainRunsOnTue</th>\n",
       "      <th>trainRunsOnWed</th>\n",
       "      <th>trainRunsOnThu</th>\n",
       "      <th>trainRunsOnFri</th>\n",
       "      <th>trainRunsOnSat</th>\n",
       "      <th>trainRunsOnSun</th>\n",
       "      <th>timeStamp</th>\n",
       "      <th>stationList</th>\n",
       "    </tr>\n",
       "  </thead>\n",
       "  <tbody>\n",
       "    <tr>\n",
       "      <th>0</th>\n",
       "      <td>961</td>\n",
       "      <td>VALLEY QUEEN SPL</td>\n",
       "      <td>MJ</td>\n",
       "      <td>MJMG</td>\n",
       "      <td>Y</td>\n",
       "      <td>Y</td>\n",
       "      <td>N</td>\n",
       "      <td>Y</td>\n",
       "      <td>Y</td>\n",
       "      <td>N</td>\n",
       "      <td>N</td>\n",
       "      <td>2023-10-15T13:04:05.392</td>\n",
       "      <td>[{'stationCode': 'MJ', 'stationName': 'MARWAR ...</td>\n",
       "    </tr>\n",
       "    <tr>\n",
       "      <th>1</th>\n",
       "      <td>1027</td>\n",
       "      <td>DR GKP SPECIAL</td>\n",
       "      <td>DR</td>\n",
       "      <td>GKP</td>\n",
       "      <td>N</td>\n",
       "      <td>Y</td>\n",
       "      <td>N</td>\n",
       "      <td>Y</td>\n",
       "      <td>N</td>\n",
       "      <td>Y</td>\n",
       "      <td>Y</td>\n",
       "      <td>2023-10-15T13:04:36.625</td>\n",
       "      <td>[{'stationCode': 'DR', 'stationName': 'DADAR',...</td>\n",
       "    </tr>\n",
       "    <tr>\n",
       "      <th>2</th>\n",
       "      <td>1065</td>\n",
       "      <td>DADAR DHULE SPL</td>\n",
       "      <td>DR</td>\n",
       "      <td>DHI</td>\n",
       "      <td>Y</td>\n",
       "      <td>N</td>\n",
       "      <td>N</td>\n",
       "      <td>N</td>\n",
       "      <td>Y</td>\n",
       "      <td>N</td>\n",
       "      <td>Y</td>\n",
       "      <td>2023-10-15T13:05:16.833</td>\n",
       "      <td>[{'stationCode': 'DR', 'stationName': 'DADAR',...</td>\n",
       "    </tr>\n",
       "    <tr>\n",
       "      <th>3</th>\n",
       "      <td>1066</td>\n",
       "      <td>DHULE DADAR SPL</td>\n",
       "      <td>DHI</td>\n",
       "      <td>DR</td>\n",
       "      <td>Y</td>\n",
       "      <td>Y</td>\n",
       "      <td>N</td>\n",
       "      <td>N</td>\n",
       "      <td>N</td>\n",
       "      <td>Y</td>\n",
       "      <td>N</td>\n",
       "      <td>2023-10-15T13:05:17.545</td>\n",
       "      <td>[{'stationCode': 'DHI', 'stationName': 'DHULE'...</td>\n",
       "    </tr>\n",
       "    <tr>\n",
       "      <th>4</th>\n",
       "      <td>1127</td>\n",
       "      <td>LTT BPQ SPL</td>\n",
       "      <td>LTT</td>\n",
       "      <td>BPQ</td>\n",
       "      <td>N</td>\n",
       "      <td>Y</td>\n",
       "      <td>N</td>\n",
       "      <td>N</td>\n",
       "      <td>N</td>\n",
       "      <td>N</td>\n",
       "      <td>N</td>\n",
       "      <td>2023-10-15T13:05:44.865</td>\n",
       "      <td>[{'stationCode': 'LTT', 'stationName': 'LOKMAN...</td>\n",
       "    </tr>\n",
       "  </tbody>\n",
       "</table>\n",
       "</div>"
      ],
      "text/plain": [
       "   trainNumber         trainName stationFrom stationTo trainRunsOnMon  \\\n",
       "0          961  VALLEY QUEEN SPL          MJ      MJMG              Y   \n",
       "1         1027    DR GKP SPECIAL          DR       GKP              N   \n",
       "2         1065   DADAR DHULE SPL          DR       DHI              Y   \n",
       "3         1066   DHULE DADAR SPL         DHI        DR              Y   \n",
       "4         1127       LTT BPQ SPL         LTT       BPQ              N   \n",
       "\n",
       "  trainRunsOnTue trainRunsOnWed trainRunsOnThu trainRunsOnFri trainRunsOnSat  \\\n",
       "0              Y              N              Y              Y              N   \n",
       "1              Y              N              Y              N              Y   \n",
       "2              N              N              N              Y              N   \n",
       "3              Y              N              N              N              Y   \n",
       "4              Y              N              N              N              N   \n",
       "\n",
       "  trainRunsOnSun                timeStamp  \\\n",
       "0              N  2023-10-15T13:04:05.392   \n",
       "1              Y  2023-10-15T13:04:36.625   \n",
       "2              Y  2023-10-15T13:05:16.833   \n",
       "3              N  2023-10-15T13:05:17.545   \n",
       "4              N  2023-10-15T13:05:44.865   \n",
       "\n",
       "                                         stationList  \n",
       "0  [{'stationCode': 'MJ', 'stationName': 'MARWAR ...  \n",
       "1  [{'stationCode': 'DR', 'stationName': 'DADAR',...  \n",
       "2  [{'stationCode': 'DR', 'stationName': 'DADAR',...  \n",
       "3  [{'stationCode': 'DHI', 'stationName': 'DHULE'...  \n",
       "4  [{'stationCode': 'LTT', 'stationName': 'LOKMAN...  "
      ]
     },
     "execution_count": 90,
     "metadata": {},
     "output_type": "execute_result"
    }
   ],
   "source": [
    "schedule.head()"
   ]
  },
  {
   "cell_type": "code",
   "execution_count": null,
   "id": "fb0a593c",
   "metadata": {},
   "outputs": [],
   "source": []
  },
  {
   "cell_type": "code",
   "execution_count": null,
   "id": "1583608b",
   "metadata": {},
   "outputs": [],
   "source": []
  },
  {
   "cell_type": "code",
   "execution_count": null,
   "id": "e3c4f767",
   "metadata": {},
   "outputs": [],
   "source": []
  },
  {
   "cell_type": "code",
   "execution_count": null,
   "id": "14dda34e",
   "metadata": {},
   "outputs": [],
   "source": []
  },
  {
   "cell_type": "code",
   "execution_count": null,
   "id": "31daa1d6",
   "metadata": {},
   "outputs": [],
   "source": []
  },
  {
   "cell_type": "code",
   "execution_count": null,
   "id": "32710be7",
   "metadata": {},
   "outputs": [],
   "source": [
    "import json"
   ]
  },
  {
   "cell_type": "code",
   "execution_count": null,
   "id": "f5ea3b07",
   "metadata": {},
   "outputs": [],
   "source": [
    "#get_availability()\n",
    "y = df.availability.tolist()[58]\n",
    "parse_data = json.loads(y.replace(\"'\", \"\\\"\"))\n",
    "parse_data_df = pd.DataFrame(parse_data)\n",
    "parse_data_df\n"
   ]
  },
  {
   "cell_type": "code",
   "execution_count": null,
   "id": "c0d6e16d",
   "metadata": {},
   "outputs": [],
   "source": [
    "#get_schedule_by_train_no\n",
    "x = df1.stationList.tolist()[97]\n",
    "parsed_data = json.loads(x.replace(\"'\", \"\\\"\"))\n",
    "parsed_data_df = pd.DataFrame(parsed_data)\n",
    "parsed_data_df.drop(['routeNumber','stnSerialNumber','boardingDisabled'],axis='columns',inplace=True)\n",
    "parsed_data_df"
   ]
  },
  {
   "cell_type": "code",
   "execution_count": null,
   "id": "98f9c424",
   "metadata": {},
   "outputs": [],
   "source": []
  }
 ],
 "metadata": {
  "kernelspec": {
   "display_name": "Python 3 (ipykernel)",
   "language": "python",
   "name": "python3"
  },
  "language_info": {
   "codemirror_mode": {
    "name": "ipython",
    "version": 3
   },
   "file_extension": ".py",
   "mimetype": "text/x-python",
   "name": "python",
   "nbconvert_exporter": "python",
   "pygments_lexer": "ipython3",
   "version": "3.11.5"
  }
 },
 "nbformat": 4,
 "nbformat_minor": 5
}
